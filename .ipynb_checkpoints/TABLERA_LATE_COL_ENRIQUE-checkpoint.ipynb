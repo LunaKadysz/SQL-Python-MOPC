{
 "cells": [
  {
   "cell_type": "code",
   "execution_count": 4,
   "metadata": {},
   "outputs": [
    {
     "name": "stdout",
     "output_type": "stream",
     "text": [
      "Nico aprendiendo GitHub\n"
     ]
    }
   ],
   "source": [
    "import os\n",
    "import datetime\n",
    "#os.chdir(\"/home/marcos-rago/Documents/\")\n",
    "\n",
    "from utils.functions_ia import *\n",
    "\n",
    "cnxn = connect_database()\n",
    "query = \"SELECT * FROM ACTIVE.DBO.TABLERO_LATE_COL_AMEX_GRCC\"\n",
    "df = pd.read_sql(query, cnxn).dropna(how = \"all\")\n",
    "df.columns = [col.upper() for col in df.columns]\n",
    "\n",
    "key = \"1-yGVdnYAK6VmmUIp0ouiXymJu1HkpVM_7B5VstbX_18\"\n",
    "sheet_name = \"Hoja 1\"\n",
    "\n",
    "gc = connect_spreadsheets()\n",
    "\n",
    "ws = get_df_from_spreadsheet(gc, key, sheet_name)\n",
    "\n",
    "\n",
    "today = list(set(df.FECHA_QUERY))[0]\n",
    "today_str = str(today.year) + \"-\" + str(today.month) + \"-\" + str(today.day)\n",
    "\n",
    "\n",
    "\n",
    "updated = df\n",
    "\n",
    "updated = updated.loc[:, ~updated.columns.str.contains('^Unnamed')]\n",
    "\n",
    "updated['ACTUALIZADO'] = datetime.datetime.strftime(datetime.datetime.today(), \"%d %B %Y %H:%M\")\n",
    "\n",
    "updated = updated[updated.groupby(['CICLO_MOROSO', 'CIERRE_PROX_PROX','TABLA_MOSTRADA','OPERADOR'])['CLOSE_BALANCE'].sum()>0].reset_index(drop=True) \n",
    "#updated = updated[updated[\"OPERADOR\"].notna()].reset_index(drop=True)\n",
    "#updated[\"OPERADOR\"] = updated[\"OPERADOR\"].str.strip().str.upper()\n",
    "#print(updated[\"OPERADOR\"])\n",
    "\n",
    "df_ = df.groupby(['CICLO_MOROSO','CIERRE_PROX_PROX','TABLA_MOSTRADA','OPERADOR'])['CLOSE_BALANCE'].sum()>0"
   ]
  },
  {
   "cell_type": "code",
   "execution_count": null,
   "metadata": {},
   "outputs": [],
   "source": []
  }
 ],
 "metadata": {
  "kernelspec": {
   "display_name": "Python 3",
   "language": "python",
   "name": "python3"
  },
  "language_info": {
   "codemirror_mode": {
    "name": "ipython",
    "version": 3
   },
   "file_extension": ".py",
   "mimetype": "text/x-python",
   "name": "python",
   "nbconvert_exporter": "python",
   "pygments_lexer": "ipython3",
   "version": "3.7.3"
  }
 },
 "nbformat": 4,
 "nbformat_minor": 4
}
