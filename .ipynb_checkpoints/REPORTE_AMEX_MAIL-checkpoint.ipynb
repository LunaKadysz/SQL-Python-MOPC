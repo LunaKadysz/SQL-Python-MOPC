{
 "cells": [
  {
   "cell_type": "markdown",
   "metadata": {},
   "source": [
    "Esto es un script de prueba que pivotea una tabla de amex y manda el reporte por mail diariamente a la gente de AMEX"
   ]
  },
  {
   "cell_type": "code",
   "execution_count": null,
   "metadata": {},
   "outputs": [],
   "source": [
    "import os\n",
    "import datetime\n",
    "os.chdir(\"/home/marcos-rago/Documents/\")\n",
    "\n",
    "from utils.functions_ia import *\n",
    "\n",
    "cnxn = connect_database(\"active\")\n",
    "query = \"QUERY DE FRANCISCO\"\n",
    "df = pd.read_sql(query, cnxn).dropna(how = \"all\")\n",
    "df.columns = [c.upper() for c in df.columns]\n",
    "\n",
    "#aca pivoteamos:\n",
    "df = pd.melt(df, id_vars = [\"COLS NO AFECTADAS\"], value_vars=[\"COLS CON VALORES DE PIVOTEO \"], var_name = \"COL PIVOTEADA\",value_name=\"VALOR DE LA COL PIVOTEADA\")\n",
    "\n",
    "df. dropna si despues del pivoteo es 0\n",
    "\n",
    "filename =\"reporte_amex_{}.xlsx\".format(datetime.datetime.now().strftime('%Y%m%d'))\n",
    "\n",
    "df.to_excel(filename_crudo, index = None)\n",
    "\n",
    "\n",
    "send_mail(subject = \"AMEX: reporte\",\n",
    " body = \"A continuación se adjunta el reporte de AMEX <br> Cualquier duda o consulta, comunicarse con ia@mopc.cc  <br> Atte. <br> Equipo de Inteligencia Artificial\" ,\n",
    " receivers=[\"luis.castillo@mopc.cc\",\"nicolas.rodriguez@mopc.cc\",\"cecilia.losa@mopc.cc\",\"viviana.pelcot@mopc.cc\",\"julieta.galarza@mopc.cc\",\"datos.mopc@gmail.com\"], sender=None, files = filename)\n",
    "\n",
    "os.remove(filename)\n"
   ]
  }
 ],
 "metadata": {
  "kernelspec": {
   "display_name": "Python 3",
   "language": "python",
   "name": "python3"
  },
  "language_info": {
   "codemirror_mode": {
    "name": "ipython",
    "version": 3
   },
   "file_extension": ".py",
   "mimetype": "text/x-python",
   "name": "python",
   "nbconvert_exporter": "python",
   "pygments_lexer": "ipython3",
   "version": "3.7.3"
  }
 },
 "nbformat": 4,
 "nbformat_minor": 2
}
