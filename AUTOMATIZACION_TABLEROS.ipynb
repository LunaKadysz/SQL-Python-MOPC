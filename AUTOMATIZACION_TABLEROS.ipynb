{
 "cells": [
  {
   "cell_type": "markdown",
   "metadata": {},
   "source": [
    "## AUTOMATIZACION TABLA_PERIODOS BALANCES DE BANCOS"
   ]
  },
  {
   "cell_type": "code",
   "execution_count": 27,
   "metadata": {},
   "outputs": [
    {
     "name": "stdout",
     "output_type": "stream",
     "text": [
      "Insert Finish!\n",
      "Insert Finish!\n",
      "Insert Finish!\n"
     ]
    }
   ],
   "source": [
    "from utils.functions_ia import *\n",
    "from gspread_formatting  import *\n",
    "\n",
    "#me me conecto a la spreadsheet y agarro sus datos\n",
    "key = \"1Ed0M09j0yk2LCLU0sBmAUximavxcZoesNmDd1w25TC8\"\n",
    "sheet_name = \"PERIODOS\"\n",
    "gc = connect_spreadsheets()\n",
    "sh = gc.open_by_key(key)\n",
    "worksheet = sh.worksheet(sheet_name)\n",
    "\n",
    "wks_data = worksheet.get_all_values() #es una lista de listas de cada fila del spreadsheet\n",
    "\n",
    "#me conecto a la base de datos\n",
    "cnxn = connect_database() #genero la conexion con la db\n",
    "\n",
    "#inserto los datos de la spreadsheet en la db\n",
    "cursor = cnxn.cursor()\n",
    "\n",
    "fmt = cellFormat(backgroundColor=color(0, 1, 0) )#color de la celda\n",
    "\n",
    "#inserto fila por fila en la base de datos\n",
    "for i in range(1,len(wks_data)):\n",
    "    query = f\"BEGIN IF NOT EXISTS (SELECT * FROM ACTIVE.DBO.PERIODOS_TABLEROS WHERE PERIODO = '{wks_data[i][3]}') BEGIN INSERT INTO ACTIVE.DBO.PERIODOS_TABLEROS (IDCLIENTE, MES, AÑO, PERIODO, FINICIO, FFIN) VALUES {tuple(wks_data[i])} END END\"\n",
    "    try:\n",
    "        cursor.execute(query)\n",
    "        cnxn.commit()\n",
    "        format_cell_range(worksheet, f'{i+1}', fmt)\n",
    "        print('Insert Finish!')\n",
    "    except: \n",
    "        print(\"No se pudo insertar\")\n",
    "cnxn.close()\n"
   ]
  },
  {
   "cell_type": "markdown",
   "metadata": {},
   "source": [
    "## AUTOMATIZACION RELLENO REFIS\n"
   ]
  },
  {
   "cell_type": "code",
   "execution_count": 1,
   "metadata": {},
   "outputs": [],
   "source": [
    "from utils.functions_ia import *\n",
    "from gspread_formatting  import *\n",
    "\n",
    "#me me conecto a la spreadsheet y agarro sus datos\n",
    "key = \"1Ed0M09j0yk2LCLU0sBmAUximavxcZoesNmDd1w25TC8\"\n",
    "sheet_name = \"REFI (PAG_UNIF)\"\n",
    "gc = connect_spreadsheets()\n",
    "sh = gc.open_by_key(key)\n",
    "worksheet = sh.worksheet(sheet_name)\n",
    "\n",
    "wks_data = worksheet.get_all_values() #es una lista de listas de cada fila del spreadsheet\n",
    "\n"
   ]
  },
  {
   "cell_type": "code",
   "execution_count": 6,
   "metadata": {},
   "outputs": [
    {
     "ename": "AttributeError",
     "evalue": "'Worksheet' object has no attribute 'row'",
     "output_type": "error",
     "traceback": [
      "\u001b[1;31m---------------------------------------------------------------------------\u001b[0m",
      "\u001b[1;31mAttributeError\u001b[0m                            Traceback (most recent call last)",
      "\u001b[1;32m<ipython-input-6-6821fff97c9d>\u001b[0m in \u001b[0;36m<module>\u001b[1;34m\u001b[0m\n\u001b[1;32m----> 1\u001b[1;33m \u001b[0mworksheet\u001b[0m\u001b[1;33m.\u001b[0m\u001b[0mrow\u001b[0m\u001b[1;33m(\u001b[0m\u001b[1;36m1\u001b[0m\u001b[1;33m)\u001b[0m\u001b[1;33m.\u001b[0m\u001b[0mformat\u001b[0m\u001b[1;33m(\u001b[0m\u001b[1;33m)\u001b[0m\u001b[1;33m\u001b[0m\u001b[1;33m\u001b[0m\u001b[0m\n\u001b[0m",
      "\u001b[1;31mAttributeError\u001b[0m: 'Worksheet' object has no attribute 'row'"
     ]
    }
   ],
   "source": [
    "worksheet.row(1).format()"
   ]
  },
  {
   "cell_type": "code",
   "execution_count": 20,
   "metadata": {},
   "outputs": [
    {
     "data": {
      "text/plain": [
       "{'spreadsheetId': '1Ed0M09j0yk2LCLU0sBmAUximavxcZoesNmDd1w25TC8',\n",
       " 'replies': [{}]}"
      ]
     },
     "execution_count": 20,
     "metadata": {},
     "output_type": "execute_result"
    }
   ],
   "source": [
    "#me conecto a la base de datos\n",
    "cnxn = connect_database() #genero la conexion con la db\n",
    "\n",
    "#inserto los datos de la spreadsheet en la db\n",
    "cursor = cnxn.cursor()\n",
    "\n",
    "fmt = cellFormat(backgroundColor=color(0, 1, 0) )#color de la celda\n",
    "\n",
    "#inserto fila por fila en la base de datos\n",
    "for i in range(1,len(wks_data)):\n",
    "    query = f\"BEGIN IF NOT EXISTS (SELECT * FROM ACTIVE.DBO.PERIODOS_TABLEROS WHERE PERIODO = '{wks_data[i][3]}') BEGIN INSERT INTO ACTIVE.DBO.PERIODOS_TABLEROS (IDCLIENTE, MES, AÑO, PERIODO, FINICIO, FFIN) VALUES {tuple(wks_data[i])} END END\"\n",
    "    try:\n",
    "        cursor.execute(query)\n",
    "        cnxn.commit()\n",
    "        format_cell_range(worksheet, f'{i+1}', fmt)\n",
    "        print('Insert Finish!')\n",
    "    except: \n",
    "        print(\"No se pudo insertar\")\n",
    "cnxn.close()\n"
   ]
  },
  {
   "cell_type": "code",
   "execution_count": 26,
   "metadata": {},
   "outputs": [
    {
     "name": "stdout",
     "output_type": "stream",
     "text": [
      "Index(['IDMOROSO', 'IDCLIENTE', 'FASIGNACION', 'FECHA_ENVIO_ENRIQUECIMIENTO',\n",
      "       'PROVEEDOR', 'ENRIQ_90DIAS', 'AÑO_MES'],\n",
      "      dtype='object')\n"
     ]
    }
   ],
   "source": [
    "import os\n",
    "\n",
    "\n",
    "from utils.functions_ia import *\n",
    "\n",
    "cnxn = connect_database()\n",
    "query = \"SELECT * FROM ACTIVE.DBO.TABLERO_LATE_COL_ENRIQUE_V2\"\n",
    "df = pd.read_sql(query, cnxn).dropna(how = \"all\")\n",
    "df.columns = [col.upper() for col in df.columns]\n",
    "\n",
    "key = \"1u-TSpwfKI8G4SQPjx0TZUFPR2xl0GejeYhkuvMs2rWY\"\n",
    "\n",
    "query= \"SELECT * FROM ACTIVE.DBO.EVOLUCION_ENRIQUECIMIENTO_VIEW\"\n",
    "df= pd.read_sql(query, cnxn).dropna(how='all')\n",
    "df.columns = [col.upper() for col in df.columns]\n",
    "print(df.columns)\n",
    "sheet_name= \"Evolucion\"\n"
   ]
  },
  {
   "cell_type": "code",
   "execution_count": 34,
   "metadata": {},
   "outputs": [
    {
     "data": {
      "text/plain": [
       "(45950, 7)"
      ]
     },
     "execution_count": 34,
     "metadata": {},
     "output_type": "execute_result"
    }
   ],
   "source": [
    "import numpy as np\n",
    "np.shape(df)"
   ]
  },
  {
   "cell_type": "code",
   "execution_count": 36,
   "metadata": {},
   "outputs": [
    {
     "data": {
      "text/plain": [
       "gspread.models.Worksheet"
      ]
     },
     "execution_count": 36,
     "metadata": {},
     "output_type": "execute_result"
    }
   ],
   "source": [
    "type(worksheet)"
   ]
  }
 ],
 "metadata": {
  "kernelspec": {
   "display_name": "Python 3",
   "language": "python",
   "name": "python3"
  },
  "language_info": {
   "codemirror_mode": {
    "name": "ipython",
    "version": 3
   },
   "file_extension": ".py",
   "mimetype": "text/x-python",
   "name": "python",
   "nbconvert_exporter": "python",
   "pygments_lexer": "ipython3",
   "version": "3.7.3"
  }
 },
 "nbformat": 4,
 "nbformat_minor": 2
}
