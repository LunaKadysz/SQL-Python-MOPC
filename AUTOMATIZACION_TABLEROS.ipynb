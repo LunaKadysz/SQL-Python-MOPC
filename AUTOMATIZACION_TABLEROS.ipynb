{
 "cells": [
  {
   "cell_type": "markdown",
   "metadata": {},
   "source": [
    "## AUTOMATIZACION TABLA_PERIODOS BALANCES DE BANCOS"
   ]
  },
  {
   "cell_type": "code",
   "execution_count": 27,
   "metadata": {},
   "outputs": [
    {
     "name": "stdout",
     "output_type": "stream",
     "text": [
      "Insert Finish!\n",
      "Insert Finish!\n",
      "Insert Finish!\n"
     ]
    }
   ],
   "source": [
    "from utils.functions_ia import *\n",
    "from gspread_formatting  import *\n",
    "\n",
    "#me me conecto a la spreadsheet y agarro sus datos\n",
    "key = \"1Ed0M09j0yk2LCLU0sBmAUximavxcZoesNmDd1w25TC8\"\n",
    "sheet_name = \"PERIODOS\"\n",
    "gc = connect_spreadsheets()\n",
    "sh = gc.open_by_key(key)\n",
    "worksheet = sh.worksheet(sheet_name)\n",
    "\n",
    "wks_data = worksheet.get_all_values() #es una lista de listas de cada fila del spreadsheet\n",
    "\n",
    "#me conecto a la base de datos\n",
    "cnxn = connect_database() #genero la conexion con la db\n",
    "\n",
    "#inserto los datos de la spreadsheet en la db\n",
    "cursor = cnxn.cursor()\n",
    "\n",
    "fmt = cellFormat(backgroundColor=color(0, 1, 0) )#color de la celda\n",
    "\n",
    "#inserto fila por fila en la base de datos\n",
    "for i in range(1,len(wks_data)):\n",
    "    query = f\"BEGIN IF NOT EXISTS (SELECT * FROM ACTIVE.DBO.PERIODOS_TABLEROS WHERE PERIODO = '{wks_data[i][3]}') BEGIN INSERT INTO ACTIVE.DBO.PERIODOS_TABLEROS (IDCLIENTE, MES, AÑO, PERIODO, FINICIO, FFIN) VALUES {tuple(wks_data[i])} END END\"\n",
    "    try:\n",
    "        cursor.execute(query)\n",
    "        cnxn.commit()\n",
    "        format_cell_range(worksheet, f'{i+1}', fmt)\n",
    "        print('Insert Finish!')\n",
    "    except: \n",
    "        print(\"No se pudo insertar\")\n",
    "cnxn.close()\n"
   ]
  },
  {
   "cell_type": "markdown",
   "metadata": {},
   "source": [
    "## AUTOMATIZACION RELLENO REFIS\n"
   ]
  },
  {
   "cell_type": "code",
   "execution_count": 56,
   "metadata": {},
   "outputs": [
    {
     "name": "stdout",
     "output_type": "stream",
     "text": [
      "[]\n"
     ]
    }
   ],
   "source": [
    "from utils.functions_ia import *\n",
    "import time\n",
    "\n",
    "#me me conecto a la spreadsheet y agarro sus datos\n",
    "key = \"1Ed0M09j0yk2LCLU0sBmAUximavxcZoesNmDd1w25TC8\"\n",
    "sheet_name = \"REFI (PAG_UNIF)\"\n",
    "sheet_name2 = \"REFI(HISTORICO)\"\n",
    "gc = connect_spreadsheets()\n",
    "sh = gc.open_by_key(key)\n",
    "worksheet = sh.worksheet(sheet_name)\n",
    "worksheet2 = sh.worksheet(sheet_name2)\n",
    "\n",
    "wks_data = worksheet.get_all_values() #es una lista de listas de cada fila del spreadsheet\n",
    "\n",
    "#me conecto a la base de datos\n",
    "cnxn = connect_database() #genero la conexion con la db\n",
    "\n",
    "#inserto los datos de la spreadsheet en la db\n",
    "cursor = cnxn.cursor()\n",
    "\n",
    "#agarro el ultimo id pago \n",
    "query_ = \"SELECT MAX(ID_PAGO) FROM ACTIVE.DBO.[PAGOS_UNIFICADOS] WHERE TIPO_PAGO ='REFI'\"\n",
    "max_id_pago = cursor.execute(query_).fetchall()[0][0] #el ultimo id_pagos\n",
    "\n",
    "\n",
    "#me conecto a la base de datos\n",
    "cols = wks_data[0]\n",
    "\n",
    "#supervisores  gente a la que se le envia el mail en caso exitoso\n",
    "supervisores = ['vanessa.fondado@mopc.cc','nicolas.rodriguez@mopc.cc','luis.castillo@mopc.cc','esteban.encina@mopc.cc','Nicolas.Caruso@mopc.cc']\n",
    "\n",
    "\n",
    "resultados= []\n",
    "\n",
    "#inserto fila por fila en la base de datos\n",
    "n = 0\n",
    "for i in range(1,len(wks_data)):\n",
    "    values = wks_data[i]\n",
    "    values[cols.index('FECHA_CARGA')] = time.strftime(\"%Y-%d-%m %H:%M:%S\", time.localtime()) # fecha carga el tiempo actual\n",
    "    values[cols.index('ID_PAGO')] = max_id_pago + i #le iserto el id-pago\n",
    "    values[cols.index('EMPRESA')] = 'MO&PC' #este valor es fijo\n",
    "    values[cols.index('TIPO_PAGO')] = 'REFI' #este valor es fijo\n",
    "    print(values)\n",
    "    fecha_pago = values[cols.index(\"FECHA_PAGO\")]\n",
    "    idmoroso = values[cols.index(\"IDMOROSO\")]\n",
    "    query = f\"BEGIN IF NOT EXISTS (SELECT * FROM ACTIVE.DBO.PAGOS_UNIFICADOS WHERE TIPO_PAGO ='REFI' AND FECHA_PAGO = '{fecha_pago}' AND IDMOROSO = '{idmoroso}') BEGIN INSERT INTO ACTIVE.DBO.PAGOS_UNIFICADOS (FUENTE_PAGO, ID_PAGO, RUC, FECHA_PAGO, FECHA_REMESA, DESTINATARIO, IDCLIENTE, IDMOROSO, MONTO, HONORARIOS, FILTROA, FILTROB, FILTROC,DEUDA_TOTAL, DEUDA_VENCIDA, TIPO_PAGO, FECHA_CARGA, EMPRESA) VALUES {tuple(values)} END END\"\n",
    "    try:\n",
    "        print(n)\n",
    "        cursor.execute(query)\n",
    "        cnxn.commit()\n",
    "        print('Insert Finish!')\n",
    "        #worksheet2.resize(1)\n",
    "        worksheet2.append_row(values)\n",
    "        worksheet.delete_row(i+1 - n)\n",
    "        n = n+1\n",
    "        resultados.append(1)\n",
    "    except: \n",
    "        print(\"No se pudo insertar\")\n",
    "        resultados.append(0)\n",
    "\n",
    "print(resultados)\n",
    "# me fijo si todas las filas fueron insertadas correctamente. Si no, se envia un mail automatico avisando\n",
    "if sum(resultados) == len(wks_data) - 1:\n",
    "            send_mail(subject = \"REFIS: carga correcta\",\n",
    "        body = \"Estimados, <br> Las REFIS fueron cargadas correctamente a las base de datos.<br><br>  Este correo se envía con frecuencias semanal y es automático. <br> Cualquier duda o consulta, comunicarse con ia@mopc.cc <br> Atte. <br> Equipo de Inteligencia Artificial\" ,\n",
    "receivers=['lulikad@hotmail.com'], sender=None)\n",
    "else: \n",
    "    send_mail(subject = \"REFIS: error\",\n",
    "        body = \"Estimados, <br> Las REFIS no fueron cargadas correctamente. La<br><br>  Este correo se envía con frecuencias semanal y es automático. <br> Cualquier duda o consulta, comunicarse con ia@mopc.cc <br> Atte. <br> Equipo de Inteligencia Artificial\" ,\n",
    "receivers=['lulikad@hotmail.com'] , sender=None)\n",
    "\n",
    "cnxn.close()"
   ]
  },
  {
   "cell_type": "code",
   "execution_count": 6,
   "metadata": {},
   "outputs": [
    {
     "data": {
      "text/plain": [
       "['FUENTE_PAGO',\n",
       " 'ID_PAGO',\n",
       " 'RUC',\n",
       " 'FECHA_PAGO',\n",
       " 'FECHA_REMESA',\n",
       " 'DESTINATARIO',\n",
       " 'IDCLIENTE',\n",
       " 'IDMOROSO',\n",
       " 'MONTO',\n",
       " 'HONORARIOS',\n",
       " 'FILTROA',\n",
       " 'FILTROB',\n",
       " 'FILTROC',\n",
       " 'DEUDA_TOTAL',\n",
       " 'DEUDA_VENCIDA',\n",
       " 'TIPO_PAGO',\n",
       " 'FECHA_CARGA',\n",
       " 'EMPRESA']"
      ]
     },
     "execution_count": 6,
     "metadata": {},
     "output_type": "execute_result"
    }
   ],
   "source": [
    "wks_data[1][7]\n",
    "wks_data[0]\n",
    "\n",
    " (FUENTE_PAGO, ID_PAGO, RUC, FECHA_PAGO, FECHA_REMESA, DESTINATARIO, IDCLIENTE, IDMOROSO, MONTO, HONORARIOS, FILTROA, FILTROB, FILTROC,DEUDA_TOTAL, DEUDA_VENCIDA, TIPO_PAGO, FECHA_CARGA, EMPRESA)"
   ]
  },
  {
   "cell_type": "code",
   "execution_count": 2,
   "metadata": {},
   "outputs": [
    {
     "name": "stdout",
     "output_type": "stream",
     "text": [
      "['OP_BBVA', 453, '', '2021-28-05 00:00:00', '', 'FRANCES_2012', 'FRANCES_2012', 'DNI 26439133', '75700', '', '2 - Ag 2ra', 'RLESCANO', '', '', '', 'REFI', '2021-31-05 10:27:43', 'MO&PC']\n",
      "Insert Finish!\n",
      "['OP_BBVA', 454, '', '2021-28-05 00:00:00', '', 'FRANCES_2012', 'FRANCES_2012', 'DNI 36701303', '191200', '', '1 - Ag 1ra', 'EMACIEL', '', '', '', 'REFI', '2021-31-05 10:27:44', 'MO&PC']\n",
      "Insert Finish!\n",
      "['OP_BBVA', 455, '', '2021-28-05 00:00:00', '', 'FRANCES_2012', 'FRANCES_2012', 'DNI 34689197', '59100', '', '2 - Ag 2ra', 'SALAYETA', '', '', '', 'REFI', '2021-31-05 10:27:45', 'MO&PC']\n",
      "Insert Finish!\n",
      "['OP_BBVA', 456, '', '2021-28-05 00:00:00', '', 'FRANCES_2012', 'FRANCES_2012', 'DNI 31897655', '57000', '', '1 - Ag 1ra', 'CEZAPATA', '', '', '', 'REFI', '2021-31-05 10:27:46', 'MO&PC']\n",
      "Insert Finish!\n",
      "['OP_BBVA', 457, '', '2021-28-05 00:00:00', '', 'FRANCES_2012', 'FRANCES_2012', 'DNI 36140923', '48000', '', '1 - Ag 1ra', 'PERNICO', '', '', '', 'REFI', '2021-31-05 10:27:47', 'MO&PC']\n",
      "Insert Finish!\n",
      "['OP_BBVA', 458, '', '2021-28-05 00:00:00', '', 'FRANCES_2012', 'FRANCES_2012', 'DNI 25814145', '73000', '', '2 - Ag 2ra', 'RVICEN', '', '', '', 'REFI', '2021-31-05 10:27:48', 'MO&PC']\n",
      "Insert Finish!\n",
      "['OP_BBVA', 459, '', '2021-28-05 00:00:00', '', 'FRANCES_2012', 'FRANCES_2012', 'DNI 42680994', '49400', '', '2 - Ag 2ra', 'GSOBRAL', '', '', '', 'REFI', '2021-31-05 10:27:48', 'MO&PC']\n",
      "Insert Finish!\n",
      "['OP_BBVA', 460, '', '2021-28-05 00:00:00', '', 'FRANCES_2012', 'FRANCES_2012', 'DNI 41669538', '63400', '', '2 - Ag 2ra', 'RVICEN', '', '', '', 'REFI', '2021-31-05 10:27:49', 'MO&PC']\n",
      "Insert Finish!\n",
      "['OP_BBVA', 461, '', '2021-28-05 00:00:00', '', 'FRANCES_2012', 'FRANCES_2012', 'DNI 39470973', '90000', '', '2 - Ag 2ra', 'PAPPALAR', '', '', '', 'REFI', '2021-31-05 10:27:50', 'MO&PC']\n",
      "Insert Finish!\n",
      "['OP_BBVA', 462, '', '2021-28-05 00:00:00', '', 'FRANCES_2012', 'FRANCES_2012', 'DNI 11155314', '58300', '', '2 - Ag 2ra', 'SALAYETA', '', '', '', 'REFI', '2021-31-05 10:27:52', 'MO&PC']\n",
      "Insert Finish!\n",
      "['OP_BBVA', 463, '', '2021-28-05 00:00:00', '', 'FRANCES_2012', 'FRANCES_2012', 'DNI 11131951', '56100', '', '2 - Ag 2ra', 'RLESCANO', '', '', '', 'REFI', '2021-31-05 10:27:52', 'MO&PC']\n",
      "Insert Finish!\n",
      "[1, 1, 1, 1, 1, 1, 1, 1, 1, 1, 1]\n"
     ]
    }
   ],
   "source": [
    "from utils.functions_ia import *\n",
    "import time\n",
    "from gspread_formatting  import *\n",
    "from datetime import datetime\n",
    "#me me conecto a la spreadsheet y agarro sus datos\n",
    "key = \"1Ed0M09j0yk2LCLU0sBmAUximavxcZoesNmDd1w25TC8\"\n",
    "sheet_name = \"REFI (PAG_UNIF)\"\n",
    "sheet_name2 = \"REFI(HISTORICO)\"\n",
    "gc = connect_spreadsheets()\n",
    "sh = gc.open_by_key(key)\n",
    "worksheet = sh.worksheet(sheet_name)\n",
    "worksheet2 = sh.worksheet(sheet_name2)\n",
    "\n",
    "wks_data = worksheet.get_all_values()\n",
    "#me conecto a la base de datos\n",
    "cnxn = connect_database() #genero la conexion con la db\n",
    "\n",
    "#inserto los datos de la spreadsheet en la db\n",
    "cursor = cnxn.cursor()\n",
    "\n",
    "#agarro el ultimo id pago \n",
    "query_ = \"SELECT MAX(ID_PAGO) FROM ACTIVE.DBO.[PAGOS_UNIFICADOS] WHERE TIPO_PAGO ='REFI'\"\n",
    "max_id_pago = cursor.execute(query_).fetchall()[0][0] #el ultimo id_pagos\n",
    "\n",
    "\n",
    "#me conecto a la base de datos\n",
    "cols = wks_data[0]\n",
    "\n",
    "#supervisores  gente a la que se le envia el mail en caso exitoso\n",
    "supervisores = ['vanessa.fondado@mopc.cc','nicolas.rodriguez@mopc.cc','luis.castillo@mopc.cc','esteban.encina@mopc.cc','Nicolas.Caruso@mopc.cc']\n",
    "\n",
    "fmt = cellFormat(backgroundColor=color(0, 1, 0) )\n",
    "resultados= []\n",
    "\n",
    "#inserto fila por fila en la base de datos\n",
    "for i in range(1,len(wks_data)):\n",
    "    \n",
    "    values = wks_data[i]\n",
    "    fecha_pago = datetime.strptime(values[cols.index(\"FECHA_PAGO\")], \"%Y-%m-%d\").strftime(\"%Y-%d-%m %H:%M:%S\")\n",
    "    values[cols.index('FECHA_CARGA')] = time.strftime(\"%Y-%d-%m %H:%M:%S\", time.localtime()) # fecha carga el tiempo actual\n",
    "    values[cols.index('ID_PAGO')] = max_id_pago + i #le iserto el id-pago\n",
    "    values[cols.index('EMPRESA')] = 'MO&PC' #este valor es fijo\n",
    "    values[cols.index('TIPO_PAGO')] = 'REFI' #este valor es fijo\n",
    "    values[cols.index(\"FECHA_PAGO\")] = fecha_pago\n",
    "    print(values)\n",
    "    idmoroso = values[cols.index(\"IDMOROSO\")]\n",
    "    query = f\"BEGIN IF NOT EXISTS (SELECT * FROM ACTIVE.DBO.PAGOS_UNIFICADOS WHERE TIPO_PAGO ='REFI' AND FECHA_PAGO = '{fecha_pago}' AND IDMOROSO = '{idmoroso}') BEGIN INSERT INTO ACTIVE.DBO.PAGOS_UNIFICADOS (FUENTE_PAGO, ID_PAGO, RUC, FECHA_PAGO, FECHA_REMESA, DESTINATARIO, IDCLIENTE, IDMOROSO, MONTO, HONORARIOS, FILTROA, FILTROB, FILTROC,DEUDA_TOTAL, DEUDA_VENCIDA, TIPO_PAGO, FECHA_CARGA, EMPRESA) VALUES {tuple(values)} END END\"\n",
    "    cursor.execute(query)\n",
    "    cnxn.commit()\n",
    "    format_cell_range(worksheet, f'{i+1}', fmt)\n",
    "    print('Insert Finish!')\n",
    "    #worksheet.delete_row(i+1)\n",
    "    resultados.append(1)\n",
    "\n",
    "print(resultados)\n",
    "# me fijo si todas las filas fueron insertadas correctamente. Si no, se envia un mail automatico avisando\n",
    "if sum(resultados) == len(wks_data) - 1:\n",
    "            send_mail(subject = \"REFIS: carga correcta\",\n",
    "        body = \"Estimados, <br> Las REFIS fueron cargadas correctamente a las base de datos.<br><br>  Este correo se envía con frecuencias semanal y es automático. <br> Cualquier duda o consulta, comunicarse con ia@mopc.cc <br> Atte. <br> Equipo de Inteligencia Artificial\" ,\n",
    "receivers=supervisores, sender=None)\n",
    "else: \n",
    "    send_mail(subject = \"REFIS: error\",\n",
    "        body = \"Estimados, <br> Las REFIS no fueron cargadas correctamente.<br><br>  Este correo se envía con frecuencias semanal y es automático. <br> Cualquier duda o consulta, comunicarse con ia@mopc.cc <br> Atte. <br> Equipo de Inteligencia Artificial\" ,\n",
    "receivers=['esteban.encina@mopc.cc','Nicolas.Caruso@mopc.cc'], sender=None)\n",
    "    \n",
    "cnxn.close()"
   ]
  },
  {
   "cell_type": "code",
   "execution_count": 41,
   "metadata": {},
   "outputs": [],
   "source": [
    "cnxn.close()"
   ]
  },
  {
   "cell_type": "code",
   "execution_count": 29,
   "metadata": {},
   "outputs": [
    {
     "data": {
      "text/plain": [
       "'2020-22-05 00:00:00'"
      ]
     },
     "execution_count": 29,
     "metadata": {},
     "output_type": "execute_result"
    }
   ],
   "source": [
    "\n",
    "from datetime import datetime\n",
    "b = values[cols.index(\"FECHA_PAGO\")]\n",
    "a = datetime.strptime(b, \"%Y-%m-%d\").strftime(\"%Y-%d-%m %H:%M:%S\")\n",
    "a"
   ]
  },
  {
   "cell_type": "code",
   "execution_count": 27,
   "metadata": {},
   "outputs": [
    {
     "data": {
      "text/plain": [
       "time.struct_time"
      ]
     },
     "execution_count": 27,
     "metadata": {},
     "output_type": "execute_result"
    }
   ],
   "source": [
    "type(time.localtime())"
   ]
  },
  {
   "cell_type": "code",
   "execution_count": 26,
   "metadata": {},
   "outputs": [
    {
     "name": "stdout",
     "output_type": "stream",
     "text": [
      "Index(['IDMOROSO', 'IDCLIENTE', 'FASIGNACION', 'FECHA_ENVIO_ENRIQUECIMIENTO',\n",
      "       'PROVEEDOR', 'ENRIQ_90DIAS', 'AÑO_MES'],\n",
      "      dtype='object')\n"
     ]
    }
   ],
   "source": [
    "import os\n",
    "\n",
    "\n",
    "from utils.functions_ia import *\n",
    "\n",
    "cnxn = connect_database()\n",
    "query = \"SELECT * FROM ACTIVE.DBO.TABLERO_LATE_COL_ENRIQUE_V2\"\n",
    "df = pd.read_sql(query, cnxn).dropna(how = \"all\")\n",
    "df.columns = [col.upper() for col in df.columns]\n",
    "\n",
    "key = \"1u-TSpwfKI8G4SQPjx0TZUFPR2xl0GejeYhkuvMs2rWY\"\n",
    "\n",
    "query= \"SELECT * FROM ACTIVE.DBO.EVOLUCION_ENRIQUECIMIENTO_VIEW\"\n",
    "df= pd.read_sql(query, cnxn).dropna(how='all')\n",
    "df.columns = [col.upper() for col in df.columns]\n",
    "print(df.columns)\n",
    "sheet_name= \"Evolucion\"\n"
   ]
  },
  {
   "cell_type": "code",
   "execution_count": 34,
   "metadata": {},
   "outputs": [
    {
     "data": {
      "text/plain": [
       "(45950, 7)"
      ]
     },
     "execution_count": 34,
     "metadata": {},
     "output_type": "execute_result"
    }
   ],
   "source": [
    "import numpy as np\n",
    "np.shape(df)"
   ]
  },
  {
   "cell_type": "code",
   "execution_count": 36,
   "metadata": {},
   "outputs": [
    {
     "data": {
      "text/plain": [
       "gspread.models.Worksheet"
      ]
     },
     "execution_count": 36,
     "metadata": {},
     "output_type": "execute_result"
    }
   ],
   "source": [
    "type(worksheet)"
   ]
  }
 ],
 "metadata": {
  "kernelspec": {
   "display_name": "Python 3",
   "language": "python",
   "name": "python3"
  },
  "language_info": {
   "codemirror_mode": {
    "name": "ipython",
    "version": 3
   },
   "file_extension": ".py",
   "mimetype": "text/x-python",
   "name": "python",
   "nbconvert_exporter": "python",
   "pygments_lexer": "ipython3",
   "version": "3.7.3"
  }
 },
 "nbformat": 4,
 "nbformat_minor": 2
}
