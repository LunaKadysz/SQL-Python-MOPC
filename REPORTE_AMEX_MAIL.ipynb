{
 "cells": [
  {
   "cell_type": "markdown",
   "metadata": {},
   "source": [
    "Esto es un script de prueba que pivotea una tabla de amex y manda el reporte por mail diariamente a la gente de AMEX"
   ]
  },
  {
   "cell_type": "code",
   "execution_count": null,
   "metadata": {},
   "outputs": [],
   "source": [
    "# https://pandas.pydata.org/docs/reference/api/pandas.DataFrame.html\n",
    "import os\n",
    "import datetime\n",
    "os.chdir(\"/home/marcos-rago/Documents/\")\n",
    "\n",
    "from utils.functions_ia import *\n",
    "\n",
    "cnxn = connect_database(\"active\") #conexion con la base de datos\n",
    "query = \"QUERY DE FRANCISCO\" # query a correr\n",
    "df = pd.read_sql(query, cnxn).dropna(how = \"all\") #creamos un 'tabla' en python de la query escrita \n",
    "df.columns = [c.upper() for c in df.columns] # convierte las columnas a mayusculas\n",
    "\n",
    "#aca pivoteamos:\n",
    "#df = pd.melt(df, id_vars = [\"COLS NO AFECTADAS\"], value_vars=[\"COLS CON VALORES DE PIVOTEO \"], var_name = \"COL PIVOTEADA\",value_name=\"VALOR DE LA COL PIVOTEADA\")\n",
    "\n",
    "df['SUMA DE MAILS'] = df.sum(df['EMAILS ENVIADOS'], df['EMAILS REBOTADOS SOFT']) #crea una columna SUMA MAILS con la suma de ciertas columnas\n",
    "df = df.drop(df['EMAILS ENVIADOS'], df['EMAILS REBOTADOS SOFT']) #elimina estas columnas\n",
    "\n",
    "\n",
    "filename =\"reporte_amex_from_{}.xlsx\".format(datetime.datetime.now().strftime('%Y%m%d')) #Le asigna el nombre al aarchivo excel. ver formato de fechas '%Y%m%d'\n",
    "\n",
    "df.to_excel(filename_crudo, index = None) #convierto la tabla a excel (to_csv si es el caso)\n",
    "\n",
    "#aca se manda el mail\n",
    "send_mail(subject = \"AMEX: reporte\", #este es el asunto\n",
    " body = \"A continuación se adjunta el reporte de AMEX <br> Cualquier duda o consulta, comunicarse con IT  <br> Atte. <br> Equipo de IT\" ,\n",
    " receivers=[\"luis.castillo@mopc.cc\",\"nicolas.rodriguez@mopc.cc\",\"cecilia.losa@mopc.cc\",\"viviana.pelcot@mopc.cc\",\"julieta.galarza@mopc.cc\",\"datos.mopc@gmail.com\"], sender=None, files = filename)\n",
    "\n",
    "os.remove(filename)\n"
   ]
  }
 ],
 "metadata": {
  "kernelspec": {
   "display_name": "Python 3",
   "language": "python",
   "name": "python3"
  },
  "language_info": {
   "codemirror_mode": {
    "name": "ipython",
    "version": 3
   },
   "file_extension": ".py",
   "mimetype": "text/x-python",
   "name": "python",
   "nbconvert_exporter": "python",
   "pygments_lexer": "ipython3",
   "version": "3.7.3"
  }
 },
 "nbformat": 4,
 "nbformat_minor": 2
}
